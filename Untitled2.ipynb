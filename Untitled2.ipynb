{
 "cells": [
  {
   "cell_type": "markdown",
   "id": "488a1a11-fdcd-4471-8abb-a66430a68330",
   "metadata": {},
   "source": [
    "##Q1. Explain Class and Object with respect to Object-Oriented Programming. Give a suitable example."
   ]
  },
  {
   "cell_type": "code",
   "execution_count": null,
   "id": "33a36f0f-c27b-41fc-b763-02a0df38fbdc",
   "metadata": {},
   "outputs": [],
   "source": [
    "In object-oriented programming (OOP), a class is a blueprint for creating objects (instances) that share common attributes and behaviors. It defines the structure and behavior of objects of a certain type. A class serves as a template or a prototype from which objects are created. It encapsulates data (attributes) and methods (functions) that operate on that data.\n",
    "\n",
    "An object, on the other hand, is an instance of a class. It is a concrete realization of the class blueprint. Objects have their own unique state (values for their attributes) and behavior (methods). They can interact with other objects and perform tasks based on the behavior defined in the class.\n",
    "\n",
    "Here's an example to illustrate the concept of class and object:\n",
    "\n",
    "class Car:\n",
    "    def __init__(self, make, model, year):\n",
    "        self.make = make\n",
    "        self.model = model\n",
    "        self.year = year\n",
    "        self.speed = 0  # Initial speed is 0\n",
    "        \n",
    "    def accelerate(self, increment):\n",
    "        self.speed += increment\n",
    "    \n",
    "    def brake(self, decrement):\n",
    "        self.speed -= decrement\n",
    "\n",
    "# Creating objects (instances) of the Car class\n",
    "car1 = Car(\"Toyota\", \"Camry\", 2020)\n",
    "car2 = Car(\"Honda\", \"Accord\", 2019)\n",
    "\n",
    "# Accessing attributes of objects\n",
    "print(\"Car 1:\", car1.make, car1.model, car1.year)\n",
    "print(\"Car 2:\", car2.make, car2.model, car2.year)\n",
    "\n",
    "# Performing actions (calling methods) on objects\n",
    "car1.accelerate(20)\n",
    "car2.accelerate(30)\n",
    "\n",
    "# Displaying current speed of cars\n",
    "print(\"Car 1 Speed:\", car1.speed)\n",
    "print(\"Car 2 Speed:\", car2.speed)\n",
    "Output:\n",
    "\n",
    "Car 1: Toyota Camry 2020\n",
    "Car 2: Honda Accord 2019\n",
    "Car 1 Speed: 20\n",
    "Car 2 Speed: 30"
   ]
  },
  {
   "cell_type": "markdown",
   "id": "b328ef50-2037-4ab2-9a30-8c79bef122ca",
   "metadata": {},
   "source": [
    "##Q2. Name the four pillars of OOPs."
   ]
  },
  {
   "cell_type": "code",
   "execution_count": null,
   "id": "b2c1bf0f-3d6e-4629-abb0-aedffce9fded",
   "metadata": {},
   "outputs": [],
   "source": [
    "The four pillars of Object-Oriented Programming (OOP) are:\n",
    "\n",
    "Encapsulation: Encapsulation refers to the bundling of data (attributes) and methods (functions) that operate on that data into a single unit called a class. It allows for the hiding of the internal state of an object and restricting access to certain parts of the code. Encapsulation helps in achieving data abstraction and information hiding, which improves code maintainability and reusability.\n",
    "\n",
    "Abstraction: Abstraction involves hiding the complex implementation details of an object and only showing the necessary features to the outside world. It allows developers to focus on what an object does rather than how it does it. Abstraction helps in simplifying the programming model, making it easier to understand and work with complex systems.\n",
    "\n",
    "Inheritance: Inheritance is a mechanism by which a new class (subclass or derived class) can inherit properties (attributes and methods) from an existing class (superclass or base class). It promotes code reuse and allows for the creation of a hierarchical relationship between classes. Subclasses can extend or modify the behavior of the superclass, enabling the creation of more specialized classes.\n",
    "\n",
    "Polymorphism: Polymorphism allows objects of different classes to be treated as objects of a common superclass. It allows a single interface to be used for objects of different types, enabling code to be more generic and flexible. Polymorphism can be achieved through method overriding (where a subclass provides a specific implementation of a method defined in its superclass) and method overloading (where multiple methods with the same name but different parameters are defined within a class).\n",
    "\n",
    "\n",
    "\n",
    "\n",
    "\n"
   ]
  },
  {
   "cell_type": "markdown",
   "id": "04daa748-79c9-41a8-a087-9d692bc3d537",
   "metadata": {},
   "source": [
    "## Q3. Explain why the __init__() function is used. Give a suitable example."
   ]
  },
  {
   "cell_type": "code",
   "execution_count": null,
   "id": "13e0565e-0ece-455c-9869-d20e926289a5",
   "metadata": {},
   "outputs": [],
   "source": [
    "The __init__() function, also known as the constructor, is a special method in Python classes that is automatically called when a new object of that class is created. It is used to initialize the attributes of the object and perform any necessary setup operations. The __init__() method is typically used to set initial values for the object's attributes based on the arguments provided during object creation.\n",
    "\n",
    "Here's why the __init__() function is used:\n",
    "\n",
    "Initialization: It allows you to initialize the state (attributes) of newly created objects. You can set default values for attributes or accept arguments to customize the initial state of objects.\n",
    "\n",
    "Attribute Assignment: It provides a convenient way to assign values to the attributes of the object during object creation, ensuring that the object is in a valid state from the beginning.\n",
    "\n",
    "Code Clarity and Maintainability: By centralizing the initialization logic in the __init__() method, you make the code easier to read, understand, and maintain. It helps in organizing the initialization process and makes it clear what actions are taken when an object is created.\n",
    "\n",
    "Here's a suitable example to illustrate the use of the __init__() function:\n",
    "\n",
    "class Car:\n",
    "    def __init__(self, make, model, year):\n",
    "        self.make = make\n",
    "        self.model = model\n",
    "        self.year = year\n",
    "        self.speed = 0  # Initial speed is 0\n",
    "        \n",
    "    def accelerate(self, increment):\n",
    "        self.speed += increment\n",
    "    \n",
    "    def brake(self, decrement):\n",
    "        self.speed -= decrement\n",
    "\n",
    "# Create objects (instances) of the Car class\n",
    "car1 = Car(\"Toyota\", \"Camry\", 2020)\n",
    "car2 = Car(\"Honda\", \"Accord\", 2019)\n",
    "\n",
    "# Access and print attributes of objects\n",
    "print(\"Car 1:\", car1.make, car1.model, car1.year)\n",
    "print(\"Car 2:\", car2.make, car2.model, car2.year)\n",
    "Output:\n",
    "\n",
    "Car 1: Toyota Camry 2020\n",
    "Car 2: Honda Accord 2019"
   ]
  },
  {
   "cell_type": "markdown",
   "id": "3bbd25b5-4894-4bd0-85f4-80c9daa70101",
   "metadata": {},
   "source": [
    "## Q4. Why self is used in OOPs?"
   ]
  },
  {
   "cell_type": "code",
   "execution_count": null,
   "id": "29c8e6bc-cb7e-4a3f-8e39-dc8c493526f3",
   "metadata": {},
   "outputs": [],
   "source": [
    "\n",
    "In object-oriented programming (OOP), self is a reference to the current instance of a class. It is a convention in Python (though not a keyword) to use self as the first parameter name in the method definition within a class. When you call a method on an object, Python automatically passes the object itself as the first argument to the method. This allows the method to access and manipulate the object's attributes and other methods.\n",
    "\n",
    "Here's why self is used in OOP:\n",
    "\n",
    "Accessing Instance Variables: Inside a class method, self is used to access the instance variables (attributes) of the object. It allows methods to refer to and modify the object's state.\n",
    "\n",
    "Calling Other Methods: self is used to call other methods of the class from within a method. It enables methods to invoke other methods on the same object.\n",
    "\n",
    "Creating Instance Variables: self is used to create instance variables within a class. It allows methods to initialize and assign values to the object's attributes during object creation or method invocation.\n",
    "\n",
    "Identifying the Current Instance: self is used to identify the current instance of the class. It distinguishes between different instances of the same class and ensures that method calls and attribute accesses are appropriately directed to the correct instance.\n"
   ]
  },
  {
   "cell_type": "markdown",
   "id": "422a43db-61f2-4059-9783-9edb4a1cf643",
   "metadata": {},
   "source": [
    "## Q5. What is inheritance? Give an example for each type of inheritance."
   ]
  },
  {
   "cell_type": "code",
   "execution_count": null,
   "id": "462f8005-c5ee-4001-8e99-ed844f78a3e9",
   "metadata": {},
   "outputs": [],
   "source": [
    "Inheritance is a fundamental concept in object-oriented programming (OOP) that allows a new class (subclass or derived class) to inherit attributes and methods from an existing class (superclass or base class). It enables code reuse and promotes the creation of hierarchical relationships between classes.\n",
    "\n",
    "There are several types of inheritance:\n",
    "\n",
    "Single Inheritance: In single inheritance, a subclass inherits from only one superclass.\n",
    "\n",
    "Multiple Inheritance: In multiple inheritance, a subclass inherits from multiple superclasses. This allows the subclass to inherit attributes and methods from more than one parent class.\n",
    "\n",
    "Multilevel Inheritance: In multilevel inheritance, a subclass inherits from a superclass, and then another subclass inherits from the derived subclass. This forms"
   ]
  }
 ],
 "metadata": {
  "kernelspec": {
   "display_name": "Python 3 (ipykernel)",
   "language": "python",
   "name": "python3"
  },
  "language_info": {
   "codemirror_mode": {
    "name": "ipython",
    "version": 3
   },
   "file_extension": ".py",
   "mimetype": "text/x-python",
   "name": "python",
   "nbconvert_exporter": "python",
   "pygments_lexer": "ipython3",
   "version": "3.10.8"
  }
 },
 "nbformat": 4,
 "nbformat_minor": 5
}
